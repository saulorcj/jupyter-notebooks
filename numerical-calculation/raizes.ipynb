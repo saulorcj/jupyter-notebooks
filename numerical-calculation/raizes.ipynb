{
 "cells": [
  {
   "cell_type": "code",
   "execution_count": 68,
   "id": "15acda56",
   "metadata": {},
   "outputs": [],
   "source": [
    "import matplotlib.pyplot as plt\n",
    "from math import sin, cos, exp\n",
    "import numpy as np"
   ]
  },
  {
   "cell_type": "markdown",
   "id": "5a67e4ba",
   "metadata": {},
   "source": [
    "# Métodos para Encontrar Raízes\n",
    "\n",
    "> f(x) = 4sin(x) - e<sup>x</sup>\n",
    "\n",
    "> f'(x) = 4cos(x) - e<sup>x</sup>"
   ]
  },
  {
   "cell_type": "code",
   "execution_count": 69,
   "id": "8935ca21",
   "metadata": {},
   "outputs": [],
   "source": [
    "def f(x):\n",
    "    return 4 * sin(x) - exp(x)\n",
    "def der_f(x):\n",
    "    return 4 * cos(x) - exp(x)"
   ]
  },
  {
   "cell_type": "code",
   "execution_count": 74,
   "id": "343e0fef",
   "metadata": {},
   "outputs": [
    {
     "data": {
      "image/png": "[encoded data removed]",
      "text/plain": [
       "<Figure size 576x576 with 1 Axes>"
      ]
     },
     "metadata": {
      "needs_background": "light"
     },
     "output_type": "display_data"
    }
   ],
   "source": [
    "# Realizando plot \n",
    "# Convertendo respostas para numpy\n",
    "x_num, y_num = 1, 1\n",
    "#beta_num = np.array(solution).astype(float).flatten()\n",
    "\n",
    "# Gerando a malha (grid)\n",
    "x_min, x_max = 0, 1\n",
    "x_grid = np.linspace(x_min, x_max, 40)\n",
    "\n",
    "# Calculando o valor da função (no caso, a reta) nesta malha (grid) gerada\n",
    "f_grid, d_grid = [], []\n",
    "for x in x_grid:\n",
    "    f_grid.append(4 * sin(x) - exp(x))\n",
    "    d_grid.append(4 * cos(x) - exp(x))\n",
    "    \n",
    "# Instruções do plot\n",
    "fig, ax = plt.subplots(figsize = (8,8))\n",
    "ax.plot(x_grid, f_grid, linewidth = 3) # reta\n",
    "ax.plot(x_grid, d_grid, linewidth = 3) # reta\n",
    "ax.plot(x_num, y_num, linestyle = \"None\") # pontos do conjunto de dados\n",
    "\n",
    "# Labels nos eixos, limites do plot e legenda\n",
    "ax.set_xlabel(\"$x$\", size = 16)\n",
    "ax.set_ylabel(\"$y$\", size = 18)\n",
    "ax.set_xlim(x_min, x_max)\n",
    "ax.tick_params(axis='both', which='major', labelsize=14)\n",
    "ax.legend([\"$f(x)$\", \"$f'(x)$\"], loc = \"upper right\", fontsize = 15)\n",
    "ax.grid(True)\n",
    "\n",
    "plt.show()"
   ]
  },
  {
   "cell_type": "markdown",
   "id": "b1cfe926",
   "metadata": {},
   "source": [
    "### Bissecção"
   ]
  },
  {
   "cell_type": "code",
   "execution_count": 58,
   "id": "6c1056e1",
   "metadata": {},
   "outputs": [],
   "source": [
    "def bissecção(a, b, ξ=1e-5, iteracoes=0):\n",
    "    x = (a + b) / 2\n",
    "    y = f(x)\n",
    "    iteracoes += 1\n",
    "    if abs(y) < ξ:\n",
    "        return x, y, iteracoes\n",
    "    if f(a) * y > 0:\n",
    "        return bissecção(x, b, iteracoes=iteracoes)\n",
    "    else:\n",
    "        return bissecção(a, x, iteracoes=iteracoes)\n",
    "        "
   ]
  },
  {
   "cell_type": "code",
   "execution_count": 62,
   "id": "8c3d7f95",
   "metadata": {},
   "outputs": [
    {
     "name": "stdout",
     "output_type": "stream",
     "text": [
      "iterações: 16\n",
      "x: 0.3705596923828125\n",
      "y: 3.639752024442444e-06\n"
     ]
    }
   ],
   "source": [
    "x, y, iteracoes = bissecção(0, 1)\n",
    "print(\"iterações: {0}\\nx: {1}\\ny: {2}\".format(iteracoes, x, y))"
   ]
  },
  {
   "cell_type": "markdown",
   "id": "0beadc8f",
   "metadata": {},
   "source": [
    "### Método da Falsa Posição"
   ]
  },
  {
   "cell_type": "code",
   "execution_count": 64,
   "id": "56872f72",
   "metadata": {},
   "outputs": [],
   "source": [
    "def falsa_posição(a, b, ξ=1e-5, iteracoes=0):\n",
    "    f_a, f_b = f(a), f(b)\n",
    "    x = (a * f_b - b * f_a) / (f_b - f_a)\n",
    "    y = f(x)\n",
    "    iteracoes += 1\n",
    "    if abs(y) < ξ:\n",
    "        return x, y, iteracoes\n",
    "    if f_a * y > 0:\n",
    "        return falsa_posição(x, b, iteracoes=iteracoes)\n",
    "    else:\n",
    "        return falsa_posição(a, x, iteracoes=iteracoes)"
   ]
  },
  {
   "cell_type": "code",
   "execution_count": 65,
   "id": "0198d2f4",
   "metadata": {},
   "outputs": [
    {
     "name": "stdout",
     "output_type": "stream",
     "text": [
      "iteracoes: 8\n",
      "x: 0.37055882835462395\n",
      "y: 1.669806334314572e-06\n"
     ]
    }
   ],
   "source": [
    "x, y, iteracoes = falsa_posição(0, 1)\n",
    "print(\"iteracoes: {0}\\nx: {1}\\ny: {2}\".format(iteracoes, x, y))"
   ]
  },
  {
   "cell_type": "markdown",
   "id": "a2510444",
   "metadata": {},
   "source": [
    "### Método de Newton Rápido"
   ]
  },
  {
   "cell_type": "code",
   "execution_count": 85,
   "id": "87a38938",
   "metadata": {},
   "outputs": [],
   "source": [
    "def MNR(x0, ξ=1e-5, iteracoes=0, parada=1e3):\n",
    "    x1 = x0 - f(x0) /der_f(x0)\n",
    "    y = f(x1)\n",
    "    iteracoes += 1\n",
    "    if abs(y) < ξ:\n",
    "        return x1, y, iteracoes\n",
    "    elif iteracoes < parada:\n",
    "        return MNR(x1, iteracoes=iteracoes)\n",
    "    else:\n",
    "        return None"
   ]
  },
  {
   "cell_type": "code",
   "execution_count": 86,
   "id": "5f685ca6",
   "metadata": {},
   "outputs": [
    {
     "name": "stdout",
     "output_type": "stream",
     "text": [
      "iteracoes: 3\n",
      "x: 0.37055808376128907\n",
      "y: -2.7834957228023427e-08\n"
     ]
    }
   ],
   "source": [
    "x, y, iteracoes = MNR(0.5)\n",
    "print(\"iteracoes: {0}\\nx: {1}\\ny: {2}\".format(iteracoes, x, y))"
   ]
  },
  {
   "cell_type": "markdown",
   "id": "87f1740c",
   "metadata": {},
   "source": [
    "### Método da Secante"
   ]
  },
  {
   "cell_type": "code",
   "execution_count": 87,
   "id": "c0b9bd87",
   "metadata": {},
   "outputs": [],
   "source": [
    "def metodo_secante(x0, x1, ξ=1e-5, iteracoes=0, parada=1e3):\n",
    "    x2 = x1 - (f(x1) * (x1 - x0)) / (f(x1) - f(x0))\n",
    "    y = f(x2)\n",
    "    iteracoes += 1\n",
    "    if abs(y) < ξ:\n",
    "        return x2, y, iteracoes\n",
    "    elif iteracoes < parada:\n",
    "        return metodo_secante(x1, x2, iteracoes=iteracoes)\n",
    "    else:\n",
    "        return None"
   ]
  },
  {
   "cell_type": "code",
   "execution_count": 88,
   "id": "4d773789",
   "metadata": {},
   "outputs": [
    {
     "name": "stdout",
     "output_type": "stream",
     "text": [
      "iteracoes: 6\n",
      "x: 0.37055822678379774\n",
      "y: 2.9825043434961174e-07\n"
     ]
    }
   ],
   "source": [
    "x, y, iteracoes = metodo_secante(0.5, 1)\n",
    "print(\"iteracoes: {0}\\nx: {1}\\ny: {2}\".format(iteracoes, x, y))"
   ]
  }
 ],
 "metadata": {
  "kernelspec": {
   "display_name": "Python 3 (ipykernel)",
   "language": "python",
   "name": "python3"
  },
  "language_info": {
   "codemirror_mode": {
    "name": "ipython",
    "version": 3
   },
   "file_extension": ".py",
   "mimetype": "text/x-python",
   "name": "python",
   "nbconvert_exporter": "python",
   "pygments_lexer": "ipython3",
   "version": "3.9.7"
  }
 },
 "nbformat": 4,
 "nbformat_minor": 5
}
