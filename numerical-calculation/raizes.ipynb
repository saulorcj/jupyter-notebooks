{
 "cells": [
  {
   "cell_type": "code",
   "execution_count": 5,
   "id": "15acda56",
   "metadata": {},
   "outputs": [],
   "source": [
    "import matplotlib.pyplot as plt\n",
    "from math import log, log10\n",
    "import numpy as np"
   ]
  },
  {
   "cell_type": "markdown",
   "id": "5a67e4ba",
   "metadata": {},
   "source": [
    "# Métodos para Encontrar Raízes\n",
    "\n",
    "> f(x) = x.log<sub>10</sub>(x) - 1\n",
    "\n",
    "> f'(x) = log<sub>10</sub>x + ln(10)<sup>-1</sup>"
   ]
  },
  {
   "cell_type": "code",
   "execution_count": 3,
   "id": "8935ca21",
   "metadata": {},
   "outputs": [],
   "source": [
    "def f(x):\n",
    "    return x * log10(x) - 1\n",
    "def der_f(x):\n",
    "    return log10(x) + log(10) ** -1"
   ]
  },
  {
   "cell_type": "code",
   "execution_count": 6,
   "id": "343e0fef",
   "metadata": {},
   "outputs": [
    {
     "data": {
      "image/png": "[encoded data removed]",
      "text/plain": [
       "<Figure size 576x576 with 1 Axes>"
      ]
     },
     "metadata": {
      "needs_background": "light"
     },
     "output_type": "display_data"
    }
   ],
   "source": [
    "# Realizando plot \n",
    "# Convertendo respostas para numpy\n",
    "x_num, y_num = 1, 1\n",
    "#beta_num = np.array(solution).astype(float).flatten()\n",
    "\n",
    "# Gerando a malha (grid)\n",
    "x_min, x_max = 2, 3\n",
    "x_grid = np.linspace(x_min, x_max, 40)\n",
    "\n",
    "# Calculando o valor da função (no caso, a reta) nesta malha (grid) gerada\n",
    "f_grid, d_grid = [], []\n",
    "for x in x_grid:\n",
    "    f_grid.append(x * log10(x) - 1)\n",
    "    d_grid.append(log10(x) + log(10) ** -1)\n",
    "    \n",
    "# Instruções do plot\n",
    "fig, ax = plt.subplots(figsize = (8,8))\n",
    "ax.plot(x_grid, f_grid, linewidth = 3) # reta\n",
    "ax.plot(x_grid, d_grid, linewidth = 3) # reta\n",
    "ax.plot(x_num, y_num, linestyle = \"None\") # pontos do conjunto de dados\n",
    "\n",
    "# Labels nos eixos, limites do plot e legenda\n",
    "ax.set_xlabel(\"$x$\", size = 16)\n",
    "ax.set_ylabel(\"$y$\", size = 18)\n",
    "ax.set_xlim(x_min, x_max)\n",
    "ax.tick_params(axis='both', which='major', labelsize=14)\n",
    "ax.legend([\"$f(x)$\", \"$f'(x)$\"], loc = \"upper right\", fontsize = 15)\n",
    "ax.grid(True)\n",
    "\n",
    "plt.show()"
   ]
  },
  {
   "cell_type": "code",
   "execution_count": 21,
   "id": "33f6406c",
   "metadata": {},
   "outputs": [],
   "source": [
    "a, b = 2, 3\n",
    "ε = 1e-7\n",
    "saida = \"iterações: {0}\\nx: {1}\\ny: {2}\""
   ]
  },
  {
   "cell_type": "markdown",
   "id": "b1cfe926",
   "metadata": {},
   "source": [
    "### Bissecção"
   ]
  },
  {
   "cell_type": "code",
   "execution_count": 33,
   "id": "6c1056e1",
   "metadata": {},
   "outputs": [],
   "source": [
    "def bissecção(a, b, ε, iteracoes=0):\n",
    "    x = (a + b) / 2\n",
    "    y = f(x)\n",
    "    iteracoes += 1\n",
    "    if abs(y) < ε:\n",
    "        return x, abs(y), iteracoes\n",
    "    if f(a) * y > 0:\n",
    "        return bissecção(x, b, ε, iteracoes)\n",
    "    else:\n",
    "        return bissecção(a, x, ε, iteracoes)\n",
    "        "
   ]
  },
  {
   "cell_type": "code",
   "execution_count": 34,
   "id": "8c3d7f95",
   "metadata": {},
   "outputs": [
    {
     "name": "stdout",
     "output_type": "stream",
     "text": [
      "iterações: 21\n",
      "x: 2.5061841011047363\n",
      "y: 3.7068876412860163e-08\n"
     ]
    }
   ],
   "source": [
    "x, y, iteracoes = bissecção(a, b, ε)\n",
    "print(saida.format(iteracoes, x, y))"
   ]
  },
  {
   "cell_type": "markdown",
   "id": "0beadc8f",
   "metadata": {},
   "source": [
    "### Método da Falsa Posição"
   ]
  },
  {
   "cell_type": "code",
   "execution_count": 35,
   "id": "56872f72",
   "metadata": {},
   "outputs": [],
   "source": [
    "def falsa_posição(a, b, ε, iteracoes=0):\n",
    "    f_a, f_b = f(a), f(b)\n",
    "    x = (a * f_b - b * f_a) / (f_b - f_a)\n",
    "    y = f(x)\n",
    "    iteracoes += 1\n",
    "    if abs(y) < ε:\n",
    "        return x, abs(y), iteracoes\n",
    "    if f_a * y > 0:\n",
    "        return falsa_posição(x, b, ε, iteracoes)\n",
    "    else:\n",
    "        return falsa_posição(a, x, ε, iteracoes)"
   ]
  },
  {
   "cell_type": "code",
   "execution_count": 36,
   "id": "0198d2f4",
   "metadata": {},
   "outputs": [
    {
     "name": "stdout",
     "output_type": "stream",
     "text": [
      "iterações: 5\n",
      "x: 2.506184026449166\n",
      "y: 9.927991884151055e-08\n"
     ]
    }
   ],
   "source": [
    "x, y, iteracoes = falsa_posição(a, b, ε)\n",
    "print(saida.format(iteracoes, x, y))"
   ]
  },
  {
   "cell_type": "markdown",
   "id": "a2510444",
   "metadata": {},
   "source": [
    "### Método de Newton-Raphson"
   ]
  },
  {
   "cell_type": "code",
   "execution_count": 37,
   "id": "87a38938",
   "metadata": {},
   "outputs": [],
   "source": [
    "def MNR(x0, ε, iteracoes=0, parada=1e3):\n",
    "    x1 = x0 - f(x0) /der_f(x0)\n",
    "    y = f(x1)\n",
    "    iteracoes += 1\n",
    "    if abs(y) < ε:\n",
    "        return x1, abs(y), iteracoes\n",
    "    elif iteracoes < parada:\n",
    "        return MNR(x1, ε, iteracoes)\n",
    "    else:\n",
    "        return None"
   ]
  },
  {
   "cell_type": "code",
   "execution_count": 38,
   "id": "ff604fe8",
   "metadata": {},
   "outputs": [
    {
     "name": "stdout",
     "output_type": "stream",
     "text": [
      "iterações: 5\n",
      "x: 2.5061841819455695\n",
      "y: 3.029639294993558e-08\n"
     ]
    }
   ],
   "source": [
    "x, y, iteracoes = MNR(0.5, ε)\n",
    "print(saida.format(iteracoes, x, y))"
   ]
  },
  {
   "cell_type": "markdown",
   "id": "8bcabdff",
   "metadata": {},
   "source": [
    "### Método da Secante"
   ]
  },
  {
   "cell_type": "code",
   "execution_count": 39,
   "id": "008ac8de",
   "metadata": {},
   "outputs": [],
   "source": [
    "def metodo_secante(x0, x1, ε, iteracoes=0, parada=1e3):\n",
    "    x2 = x1 - (f(x1) * (x1 - x0)) / (f(x1) - f(x0))\n",
    "    y = f(x2)\n",
    "    iteracoes += 1\n",
    "    if abs(y) < ε:\n",
    "        return x2, abs(y), iteracoes\n",
    "    elif iteracoes < parada:\n",
    "        return metodo_secante(x1, x2, ε, iteracoes)\n",
    "    else:\n",
    "        return None"
   ]
  },
  {
   "cell_type": "code",
   "execution_count": 40,
   "id": "60270eea",
   "metadata": {},
   "outputs": [
    {
     "name": "stdout",
     "output_type": "stream",
     "text": [
      "iterações: 6\n",
      "x: 2.506184144655498\n",
      "y: 7.777019028765153e-10\n"
     ]
    }
   ],
   "source": [
    "x, y, iteracoes = metodo_secante(0.5, 1, ε)\n",
    "print(saida.format(iteracoes, x, y))"
   ]
  }
 ],
 "metadata": {
  "kernelspec": {
   "display_name": "Python 3 (ipykernel)",
   "language": "python",
   "name": "python3"
  },
  "language_info": {
   "codemirror_mode": {
    "name": "ipython",
    "version": 3
   },
   "file_extension": ".py",
   "mimetype": "text/x-python",
   "name": "python",
   "nbconvert_exporter": "python",
   "pygments_lexer": "ipython3",
   "version": "3.9.7"
  }
 },
 "nbformat": 4,
 "nbformat_minor": 5
}
