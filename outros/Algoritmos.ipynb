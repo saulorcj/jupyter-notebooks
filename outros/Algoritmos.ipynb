{
 "cells": [
  {
   "cell_type": "code",
   "execution_count": 1,
   "id": "4edf5d37",
   "metadata": {},
   "outputs": [],
   "source": [
    "#MergeSort\n",
    "def merge_sort(sequencia):\n",
    "    tam = len(sequencia)\n",
    "    if tam == 1:\n",
    "        return sequencia\n",
    "    meio = tam // 2\n",
    "    parte1 = merge_sort(sequencia[:meio])\n",
    "    parte2 = merge_sort(sequencia[meio:])\n",
    "    final = []\n",
    "    i, j = 0, 0\n",
    "    while True:\n",
    "        if i < len(parte1) and j < len(parte2):\n",
    "            if parte1[i] < parte2[j]:\n",
    "                final.append(parte1[i])\n",
    "                i += 1\n",
    "            else:\n",
    "                final.append(parte2[j])\n",
    "                j += 1\n",
    "        elif i < len(parte1) and j == len(parte2):\n",
    "            final.append(parte1[i])\n",
    "            i += 1\n",
    "        elif i == len(parte1) and j < len(parte2):\n",
    "            final.append(parte2[j])\n",
    "            j += 1\n",
    "        else:\n",
    "            break\n",
    "    return final\n",
    "        "
   ]
  },
  {
   "cell_type": "code",
   "execution_count": 3,
   "id": "8e5b556d",
   "metadata": {},
   "outputs": [
    {
     "name": "stdout",
     "output_type": "stream",
     "text": [
      "1 1 1 5 2 9 3 17 13 200\n"
     ]
    },
    {
     "data": {
      "text/plain": [
       "[1, 1, 1, 2, 3, 5, 9, 13, 17, 200]"
      ]
     },
     "execution_count": 3,
     "metadata": {},
     "output_type": "execute_result"
    }
   ],
   "source": [
    "lista = list(map(int, input().split()))\n",
    "merge_sort(lista)"
   ]
  }
 ],
 "metadata": {
  "kernelspec": {
   "display_name": "Python 3.8.10 64-bit",
   "language": "python",
   "name": "python3"
  },
  "language_info": {
   "codemirror_mode": {
    "name": "ipython",
    "version": 3
   },
   "file_extension": ".py",
   "mimetype": "text/x-python",
   "name": "python",
   "nbconvert_exporter": "python",
   "pygments_lexer": "ipython3",
   "version": "3.8.10"
  },
  "vscode": {
   "interpreter": {
    "hash": "916dbcbb3f70747c44a77c7bcd40155683ae19c65e1c03b4aa3499c5328201f1"
   }
  }
 },
 "nbformat": 4,
 "nbformat_minor": 5
}
