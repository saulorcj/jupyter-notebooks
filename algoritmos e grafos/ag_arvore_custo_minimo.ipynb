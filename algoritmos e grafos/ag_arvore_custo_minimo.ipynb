{
 "cells": [
  {
   "cell_type": "code",
   "execution_count": 3,
   "metadata": {},
   "outputs": [],
   "source": [
    "import numpy as np"
   ]
  },
  {
   "cell_type": "code",
   "execution_count": 4,
   "metadata": {},
   "outputs": [],
   "source": [
    "grafo = [[None,    1,    7,    3,    5],\n",
    "         [   1, None,    6,    1,    9],\n",
    "         [   7,    6, None,    7,    1],\n",
    "         [   3,    1,    7, None,   10],\n",
    "         [   5,    9,    1,   10, None]]"
   ]
  },
  {
   "cell_type": "code",
   "execution_count": 5,
   "metadata": {},
   "outputs": [],
   "source": [
    "def algoritmo_prim(grafo):\n",
    "    nos_visitados = set([np.random.randint(len(grafo))]) # nós já visitados\n",
    "    arestas = set() # conjunto de arestas pertencente a árvore\n",
    "\n",
    "    while len(nos_visitados) < len(grafo): # continua até a árvore conter todos os nós\n",
    "        aresta = None # aresta de menor valor\n",
    "        no_menor = None # segundo nó da aresta de menor valor\n",
    "        aresta_valor_menor = np.inf # valor da aresta de menor valor\n",
    "\n",
    "        for no_visitado in nos_visitados:\n",
    "            for no_vizinho in range(len(grafo[no_visitado])):\n",
    "                aresta_valor = grafo[no_visitado][no_vizinho]\n",
    "\n",
    "                # verifica se o nó já foi visitado\n",
    "                if no_vizinho in nos_visitados:\n",
    "                    continue\n",
    "\n",
    "                # se a aresta tiver um valor menor, ela passa a ser a menor\n",
    "                if aresta_valor < aresta_valor_menor:\n",
    "                    no_menor = no_vizinho\n",
    "                    aresta = (no_visitado, no_vizinho)\n",
    "                    aresta_valor_menor = aresta_valor\n",
    "        \n",
    "        nos_visitados.add(no_menor)\n",
    "        arestas.add(aresta)\n",
    "    \n",
    "    return arestas\n",
    "        \n",
    "            "
   ]
  },
  {
   "cell_type": "code",
   "execution_count": 6,
   "metadata": {},
   "outputs": [
    {
     "data": {
      "text/plain": [
       "{(0, 4), (1, 0), (1, 3), (4, 2)}"
      ]
     },
     "execution_count": 6,
     "metadata": {},
     "output_type": "execute_result"
    }
   ],
   "source": [
    "algoritmo_prim(grafo)"
   ]
  }
 ],
 "metadata": {
  "kernelspec": {
   "display_name": "Python 3.8.10 64-bit",
   "language": "python",
   "name": "python3"
  },
  "language_info": {
   "codemirror_mode": {
    "name": "ipython",
    "version": 3
   },
   "file_extension": ".py",
   "mimetype": "text/x-python",
   "name": "python",
   "nbconvert_exporter": "python",
   "pygments_lexer": "ipython3",
   "version": "3.8.10"
  },
  "orig_nbformat": 4,
  "vscode": {
   "interpreter": {
    "hash": "916dbcbb3f70747c44a77c7bcd40155683ae19c65e1c03b4aa3499c5328201f1"
   }
  }
 },
 "nbformat": 4,
 "nbformat_minor": 2
}
