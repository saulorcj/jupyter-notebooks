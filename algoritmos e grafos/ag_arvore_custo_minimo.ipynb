{
 "cells": [
  {
   "cell_type": "code",
   "execution_count": 40,
   "metadata": {},
   "outputs": [],
   "source": [
    "import numpy as np"
   ]
  },
  {
   "cell_type": "markdown",
   "metadata": {},
   "source": [
    "# Problema da Árvore geradora mínima para um grafo conexo com pesos"
   ]
  },
  {
   "cell_type": "markdown",
   "metadata": {},
   "source": [
    "## Algoritmo de Prim"
   ]
  },
  {
   "cell_type": "code",
   "execution_count": 41,
   "metadata": {},
   "outputs": [],
   "source": [
    "grafo = [[None,    1,    7,    3,    5],\n",
    "         [   1, None,    6,    1,    9],\n",
    "         [   7,    6, None,    7,    1],\n",
    "         [   3,    1,    7, None,   10],\n",
    "         [   5,    9,    1,   10, None]]"
   ]
  },
  {
   "cell_type": "code",
   "execution_count": 66,
   "metadata": {},
   "outputs": [],
   "source": [
    "def algoritmo_prim(grafo):\n",
    "    nos_visitados = set([np.random.randint(len(grafo))]) # nós já visitados\n",
    "    arestas = set() # conjunto de arestas pertencente a árvore\n",
    "\n",
    "    while len(nos_visitados) < len(grafo): # continua até a árvore conter todos os nós\n",
    "        aresta = None # aresta de menor valor\n",
    "        no_menor = None # segundo nó da aresta de menor valor\n",
    "        aresta_valor_menor = np.inf # valor da aresta de menor valor\n",
    "\n",
    "        for no_visitado in nos_visitados:\n",
    "            for no_vizinho in range(len(grafo[no_visitado])):\n",
    "                aresta_valor = grafo[no_visitado][no_vizinho]\n",
    "\n",
    "                # verifica se o nó já foi visitado\n",
    "                if no_vizinho in nos_visitados:\n",
    "                    continue\n",
    "\n",
    "                # se a aresta tiver um valor menor, ela passa a ser a menor\n",
    "                if aresta_valor < aresta_valor_menor:\n",
    "                    no_menor = no_vizinho\n",
    "                    aresta = (no_visitado, no_vizinho)\n",
    "                    aresta_valor_menor = aresta_valor\n",
    "        \n",
    "        nos_visitados.add(no_menor)\n",
    "        arestas.add(tuple(sorted(aresta))) # ordena os nós na aresta\n",
    "    \n",
    "    return arestas"
   ]
  },
  {
   "cell_type": "code",
   "execution_count": 56,
   "metadata": {},
   "outputs": [],
   "source": [
    "resultado_prim = algoritmo_prim(grafo)"
   ]
  },
  {
   "cell_type": "code",
   "execution_count": 57,
   "metadata": {},
   "outputs": [
    {
     "data": {
      "text/plain": [
       "{(0, 1), (0, 4), (1, 3), (2, 4)}"
      ]
     },
     "execution_count": 57,
     "metadata": {},
     "output_type": "execute_result"
    }
   ],
   "source": [
    "resultado_prim"
   ]
  },
  {
   "cell_type": "markdown",
   "metadata": {},
   "source": [
    "## Algoritmo de Kruskal"
   ]
  },
  {
   "cell_type": "code",
   "execution_count": 60,
   "metadata": {},
   "outputs": [],
   "source": [
    "# ordenação pela terceira posição da tupla,\n",
    "# que contém o peso da aresta\n",
    "f = lambda tupla: tupla[2]"
   ]
  },
  {
   "cell_type": "code",
   "execution_count": 61,
   "metadata": {},
   "outputs": [],
   "source": [
    "def get_arestas_ordenada(grafo):\n",
    "    \"\"\"\n",
    "    Ordena um grafo conexo com pesos de acordo com o peso de suas arestas\n",
    "    :param return: lista ordenada das arestas do grafo (no1, no2, peso)\n",
    "    \"\"\"\n",
    "    lista_arestas = []\n",
    "    for i in range(len(grafo)):\n",
    "        for k in range(i + 1, len(grafo)):\n",
    "            lista_arestas.append((i, k, grafo[i][k]))\n",
    "    return sorted(lista_arestas, key=f) # ordenação da lista de arestas"
   ]
  },
  {
   "cell_type": "code",
   "execution_count": 62,
   "metadata": {},
   "outputs": [],
   "source": [
    "def algoritmo_kruskal(grafo):\n",
    "    \"\"\"\n",
    "    Busca uma árvore geradora mínima para um grafo conexo com pesos\n",
    "    :param return: conjunto de arestas pertencentes a árvore geradora mínima\n",
    "    \"\"\"\n",
    "    lista_aresta_ordenada = get_arestas_ordenada(grafo)\n",
    "\n",
    "    no1, no2, _ = lista_aresta_ordenada.pop(0)\n",
    "\n",
    "    nos_visitados = set([no1, no2]) # adiciona os primeiros nós\n",
    "\n",
    "    arestas = set([(no1, no2)]) # adiciona a primeira aresta\n",
    "\n",
    "    while len(nos_visitados) < len(grafo): # continua até visitar todos os nós\n",
    "        for i, aresta in enumerate(lista_aresta_ordenada):\n",
    "            no1_visitado = aresta[0] in nos_visitados # primeiro nó foi visitado\n",
    "            no2_visitado = aresta[1] in nos_visitados # segundo nó foi visitado\n",
    "\n",
    "            # se ambos os nós já tiverem sido ou não visitados\n",
    "            if no1_visitado == no2_visitado:\n",
    "                continue\n",
    "            \n",
    "            # adiciona o nó que não foi visitado ainda\n",
    "            nos_visitados.add(aresta[0] if not no1_visitado else aresta[1])\n",
    "\n",
    "            i_exclusao = i # guarda o indice da aresta que vai ser excluída\n",
    "            break\n",
    "\n",
    "        # adiciona a nova aresta\n",
    "        arestas.add(lista_aresta_ordenada[i][:2])\n",
    "\n",
    "        # exclui a aresta já adicionada\n",
    "        lista_aresta_ordenada.pop(i_exclusao)\n",
    "\n",
    "    return arestas\n",
    "\n",
    "        "
   ]
  },
  {
   "cell_type": "code",
   "execution_count": 63,
   "metadata": {},
   "outputs": [],
   "source": [
    "resultado_kruskal = algoritmo_kruskal(grafo)"
   ]
  },
  {
   "cell_type": "code",
   "execution_count": 64,
   "metadata": {},
   "outputs": [
    {
     "data": {
      "text/plain": [
       "{(0, 1), (0, 4), (1, 3), (2, 4)}"
      ]
     },
     "execution_count": 64,
     "metadata": {},
     "output_type": "execute_result"
    }
   ],
   "source": [
    "resultado_kruskal"
   ]
  },
  {
   "cell_type": "markdown",
   "metadata": {},
   "source": [
    "Ambos os algoritmos chegam ao mesmo resultado"
   ]
  },
  {
   "cell_type": "code",
   "execution_count": 65,
   "metadata": {},
   "outputs": [
    {
     "data": {
      "text/plain": [
       "True"
      ]
     },
     "execution_count": 65,
     "metadata": {},
     "output_type": "execute_result"
    }
   ],
   "source": [
    "resultado_prim == resultado_kruskal"
   ]
  }
 ],
 "metadata": {
  "kernelspec": {
   "display_name": "Python 3.8.10 64-bit",
   "language": "python",
   "name": "python3"
  },
  "language_info": {
   "codemirror_mode": {
    "name": "ipython",
    "version": 3
   },
   "file_extension": ".py",
   "mimetype": "text/x-python",
   "name": "python",
   "nbconvert_exporter": "python",
   "pygments_lexer": "ipython3",
   "version": "3.8.10"
  },
  "orig_nbformat": 4,
  "vscode": {
   "interpreter": {
    "hash": "916dbcbb3f70747c44a77c7bcd40155683ae19c65e1c03b4aa3499c5328201f1"
   }
  }
 },
 "nbformat": 4,
 "nbformat_minor": 2
}
