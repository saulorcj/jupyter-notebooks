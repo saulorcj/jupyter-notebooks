{
 "cells": [
  {
   "cell_type": "code",
   "execution_count": 1,
   "id": "3e6956b6",
   "metadata": {},
   "outputs": [],
   "source": [
    "from collections import deque"
   ]
  },
  {
   "cell_type": "code",
   "execution_count": 3,
   "id": "fd42d1e1",
   "metadata": {},
   "outputs": [],
   "source": [
    "grafo = {1: {2, 4},\n",
    "         2: {1, 4, 7},\n",
    "         3: {5, 6},\n",
    "         4: {2, 7},\n",
    "         5: {3, 7},\n",
    "         6: {3},\n",
    "         7: {2, 4, 5}}"
   ]
  },
  {
   "cell_type": "code",
   "execution_count": 25,
   "id": "b9b3dba0",
   "metadata": {},
   "outputs": [],
   "source": [
    "\"\"\"Implementando busca em largura para encontrar a quantidade de arestas do caminho mínimo \n",
    "entre dois vértices\"\"\"\n",
    "def busca_largura(grafo, no_start, no_end):\n",
    "    fila = deque([(no_start, 0)])\n",
    "    foram = {no_start}\n",
    "    while True:\n",
    "        for no_viz in grafo[fila[0][0]]:\n",
    "            if no_viz not in foram:\n",
    "                if no_viz == no_end:\n",
    "                    return fila[0][1] + 1\n",
    "                else:\n",
    "                    foram.add(no_viz)\n",
    "                fila.append((no_viz, fila[0][1] + 1))\n",
    "        fila.popleft()"
   ]
  },
  {
   "cell_type": "code",
   "execution_count": 26,
   "id": "b257b21f",
   "metadata": {},
   "outputs": [
    {
     "data": {
      "text/plain": [
       "3"
      ]
     },
     "execution_count": 26,
     "metadata": {},
     "output_type": "execute_result"
    }
   ],
   "source": [
    "busca_largura(grafo, 3, 2)"
   ]
  },
  {
   "cell_type": "code",
   "execution_count": 40,
   "id": "a7bb8014",
   "metadata": {},
   "outputs": [],
   "source": [
    "\"\"\"Implementando busca em profundidade para encontrar a quantidade de arestas de um caminho \n",
    "qualquer entre dois vértices\"\"\"\n",
    "def busca_profundidade(grafo, no_start, no_end, altura=0, foram=set()):\n",
    "    for no_viz in grafo[no_start]:\n",
    "        if no_viz not in foram:\n",
    "            if no_viz == no_end:\n",
    "                return altura + 1\n",
    "            else:\n",
    "                foram.add(no_start)\n",
    "                return busca_profundidade(grafo, no_viz, no_end, altura + 1, foram)"
   ]
  },
  {
   "cell_type": "code",
   "execution_count": 43,
   "id": "3bf28344",
   "metadata": {},
   "outputs": [
    {
     "data": {
      "text/plain": [
       "2"
      ]
     },
     "execution_count": 43,
     "metadata": {},
     "output_type": "execute_result"
    }
   ],
   "source": [
    "busca_profundidade(grafo, 2, 4)"
   ]
  },
  {
   "cell_type": "code",
   "execution_count": 20,
   "id": "5797a904",
   "metadata": {},
   "outputs": [],
   "source": [
    "grafo = {0: {1, 3},\n",
    "         1: {0, 3, 6},\n",
    "         2: {4, 5},\n",
    "         3: {1, 6},\n",
    "         4: {2, 6},\n",
    "         5: {2},\n",
    "         6: {1, 3, 4}}"
   ]
  },
  {
   "cell_type": "code",
   "execution_count": 42,
   "id": "d1b9cbe6",
   "metadata": {},
   "outputs": [],
   "source": [
    "\n",
    "        "
   ]
  },
  {
   "cell_type": "code",
   "execution_count": 46,
   "id": "8cc5fa6c",
   "metadata": {},
   "outputs": [
    {
     "name": "stdout",
     "output_type": "stream",
     "text": [
      "antes {}\n",
      "no 0 {0: 0}\n",
      "no_viz 1\n",
      "antes {0: 0}\n",
      "no 1 {0: 0, 1: 1}\n",
      "no_viz 0\n",
      "no_viz 3\n",
      "antes {0: 0, 1: 1}\n",
      "no 3 {0: 0, 1: 1, 3: 2}\n",
      "no_viz 1\n",
      "no_viz 6\n",
      "antes {0: 0, 1: 1, 3: 2}\n",
      "no 6 {0: 0, 1: 1, 3: 2, 6: 3}\n",
      "no_viz 1\n",
      "no_viz 3\n",
      "no_viz 4\n",
      "antes {0: 0, 1: 1, 3: 2, 6: 1}\n",
      "no 4 {0: 0, 1: 1, 3: 2, 6: 1, 4: 4}\n",
      "no_viz 2\n",
      "antes {0: 0, 1: 1, 3: 2, 6: 1, 4: 4}\n",
      "no 2 {0: 0, 1: 1, 3: 2, 6: 1, 4: 4, 2: 5}\n",
      "no_viz 4\n",
      "no_viz 5\n",
      "antes {0: 0, 1: 1, 3: 2, 6: 1, 4: 4, 2: 5}\n",
      "no 5 {0: 0, 1: 1, 3: 2, 6: 1, 4: 4, 2: 5, 5: 6}\n",
      "no_viz 2\n",
      "re no 5 6 set() False 7\n",
      "re no 2 5 set() False 7\n",
      "no_viz 6\n",
      "re no 4 4 set() True 7\n",
      "re no 6 1 {6} False 7\n",
      "re no 3 1 {6} True 7\n",
      "no_viz 6\n",
      "re no 1 1 {1, 6} True 7\n",
      "no_viz 3\n",
      "re no 0 0 {0, 1, 6} True 7\n"
     ]
    },
    {
     "data": {
      "text/plain": [
       "(0, {0, 1, 6}, True, 7, {0: 0, 1: 1, 3: 1, 6: 1, 4: 4, 2: 5, 5: 6})"
      ]
     },
     "execution_count": 46,
     "metadata": {},
     "output_type": "execute_result"
    }
   ],
   "source": [
    "busca_articulações(grafo, 0)"
   ]
  }
 ],
 "metadata": {
  "kernelspec": {
   "display_name": "Python 3.8.10 64-bit",
   "language": "python",
   "name": "python3"
  },
  "language_info": {
   "codemirror_mode": {
    "name": "ipython",
    "version": 3
   },
   "file_extension": ".py",
   "mimetype": "text/x-python",
   "name": "python",
   "nbconvert_exporter": "python",
   "pygments_lexer": "ipython3",
   "version": "3.8.10"
  },
  "vscode": {
   "interpreter": {
    "hash": "916dbcbb3f70747c44a77c7bcd40155683ae19c65e1c03b4aa3499c5328201f1"
   }
  }
 },
 "nbformat": 4,
 "nbformat_minor": 5
}
