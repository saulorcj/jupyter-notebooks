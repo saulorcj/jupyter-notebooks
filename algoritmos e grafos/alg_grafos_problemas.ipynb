{
 "cells": [
  {
   "cell_type": "markdown",
   "id": "9f57c2fd",
   "metadata": {},
   "source": [
    "# Problema 1 - A celebridade\n",
    "\n",
    "Uma festa com N pessoas, quaisquer duas pessoas podem se conhecer ou não se conhecer. As relações  são direcionais. 1 pode conhecer 2, mas 2 pode não conhecer 1. Os dois podem se conhecer e os dois podem não se conhecer. Uma celebridade caracteriza-se por todos a conhecerem e ela não conhecer ninguém. \n",
    "\n",
    "A entrada é um grafo direcionado onde as arestas indicam a relação de conhecer. Uma aresta de X pra Y significa que X conhece Y. \n",
    "\n",
    "Dado o grafo relacionado, existe alguma celebridade nessa festa? \n",
    "\n",
    "D(V,E) direcionado onde (x, y) € E sse x conhece y."
   ]
  },
  {
   "cell_type": "code",
   "execution_count": 4,
   "id": "859d1625",
   "metadata": {},
   "outputs": [],
   "source": [
    "grafo = {1: {2, 7, 8}, \n",
    "         2: {7}, \n",
    "         3: {1, 4, 6, 7}, \n",
    "         4: {2, 7, 8}, \n",
    "         5: {6, 7}, \n",
    "         6: {7, 8}, \n",
    "         7: {}, \n",
    "         8: {2, 7}}"
   ]
  },
  {
   "cell_type": "code",
   "execution_count": 13,
   "id": "5b85294a",
   "metadata": {},
   "outputs": [],
   "source": [
    "def encontrar_celebridade_1(grafo):\n",
    "    sem_conhecidos = None\n",
    "    for pessoa in grafo:\n",
    "        if not grafo[pessoa]:\n",
    "            if sem_conhecidos is not None:\n",
    "                return None\n",
    "            else:\n",
    "                sem_conhecidos = pessoa\n",
    "    for pessoa in grafo:\n",
    "        if pessoa != sem_conhecidos and sem_conhecidos not in grafo[pessoa]:\n",
    "            return None\n",
    "    return sem_conhecidos"
   ]
  },
  {
   "cell_type": "code",
   "execution_count": 11,
   "id": "896eacc5",
   "metadata": {},
   "outputs": [
    {
     "data": {
      "text/plain": [
       "7"
      ]
     },
     "execution_count": 11,
     "metadata": {},
     "output_type": "execute_result"
    }
   ],
   "source": [
    "encontrar_celebridade_1(grafo)"
   ]
  },
  {
   "cell_type": "code",
   "execution_count": 18,
   "id": "4dd48cf3",
   "metadata": {},
   "outputs": [],
   "source": [
    "grafo = (None,\n",
    "         {2, 7, 8}, \n",
    "         {7}, \n",
    "         {1, 4, 6, 7}, \n",
    "         {2, 7, 8}, \n",
    "         {6, 7}, \n",
    "         {7, 8}, \n",
    "         set(), \n",
    "         {2, 7})"
   ]
  },
  {
   "cell_type": "code",
   "execution_count": 43,
   "id": "949a860d",
   "metadata": {},
   "outputs": [],
   "source": [
    "def encontrar_celebridade_2(grafo):\n",
    "    menor_celebridade = 1\n",
    "    for pessoa in range(2, len(grafo)):\n",
    "        if pessoa in grafo[menor_celebridade]:\n",
    "            menor_celebridade = pessoa\n",
    "    if len(grafo[menor_celebridade]) > 0:\n",
    "        return None\n",
    "    for pessoa in range(1, len(grafo)):\n",
    "        if pessoa != menor_celebridade and menor_celebridade not in grafo[pessoa]:\n",
    "            return None\n",
    "    return menor_celebridade"
   ]
  },
  {
   "cell_type": "code",
   "execution_count": 44,
   "id": "c3124916",
   "metadata": {},
   "outputs": [
    {
     "data": {
      "text/plain": [
       "7"
      ]
     },
     "execution_count": 44,
     "metadata": {},
     "output_type": "execute_result"
    }
   ],
   "source": [
    "encontrar_celebridade_2(grafo)"
   ]
  },
  {
   "cell_type": "markdown",
   "id": "015d9149",
   "metadata": {},
   "source": [
    "# Problema 2 - As Metropoles\n",
    "\n",
    "A entrada é grafo não direcionado G(V, E) onde arestas (x, y) representam estradas diretas entre as cidades X e Y. Também faz parte da entrada cada vértice numerado de 1 a N que representam uma cidade e sabe quantos cidadãos existem em cada cidade.\n",
    "\n",
    "Quantas estradas existem ligando duas metropoles? Quantas são as arestas que ligam duas metropoles quaisquer? \n",
    "\n",
    "Uma metrópole é uma cidade com mais de um milhão de habitantes"
   ]
  },
  {
   "cell_type": "code",
   "execution_count": 71,
   "id": "48e6413c",
   "metadata": {},
   "outputs": [],
   "source": [
    "grafo = [None,\n",
    "         (56_000, {2, 3, 4, 5, 6}),\n",
    "         (777_000, {1, 4, 5, 6}),\n",
    "         (1_580_000, {1, 5}),\n",
    "         (1_900_984, {1, 2, 5}),\n",
    "         (1_394_223, {1, 2, 3, 4, 6}),\n",
    "         (245_000, {1, 2, 5})]"
   ]
  },
  {
   "cell_type": "code",
   "execution_count": 85,
   "id": "22162d86",
   "metadata": {},
   "outputs": [],
   "source": [
    "def quantidade_estrada_1(grafo):\n",
    "    metropoles = []\n",
    "    qt_estradas = 0\n",
    "    for i in range(1, len(grafo)):\n",
    "        if grafo[i][0] > 1_000_000:\n",
    "            metropoles.append(i)\n",
    "    for i, metropole in enumerate(metropoles):\n",
    "        for outra_metropole in metropoles[i + 1:]:\n",
    "            if (metropole in grafo[outra_metropole][1] and \n",
    "                outra_metropole in grafo[metropole][1]):\n",
    "                qt_estradas += 1\n",
    "    return qt_estradas"
   ]
  },
  {
   "cell_type": "code",
   "execution_count": 86,
   "id": "c39077ae",
   "metadata": {},
   "outputs": [
    {
     "data": {
      "text/plain": [
       "2"
      ]
     },
     "execution_count": 86,
     "metadata": {},
     "output_type": "execute_result"
    }
   ],
   "source": [
    "quantidade_estrada_1(grafo)"
   ]
  },
  {
   "cell_type": "code",
   "execution_count": 90,
   "id": "6eef2360",
   "metadata": {},
   "outputs": [],
   "source": [
    "def quantidade_estrada_2(grafo):\n",
    "    qt_estradas = 0\n",
    "    for i in range(1, len(grafo)):\n",
    "        if grafo[i][0] > 1_000_000:\n",
    "            for vizinho in grafo[i][1]:\n",
    "                if grafo[vizinho][0] > 1_000_000:\n",
    "                    qt_estradas += 1\n",
    "    return qt_estradas // 2"
   ]
  },
  {
   "cell_type": "code",
   "execution_count": 91,
   "id": "655ee458",
   "metadata": {},
   "outputs": [
    {
     "data": {
      "text/plain": [
       "2"
      ]
     },
     "execution_count": 91,
     "metadata": {},
     "output_type": "execute_result"
    }
   ],
   "source": [
    "quantidade_estrada_2(grafo)"
   ]
  },
  {
   "cell_type": "code",
   "execution_count": 92,
   "id": "051a1ca4",
   "metadata": {},
   "outputs": [],
   "source": [
    "cidades = [None,\n",
    "           56_000,\n",
    "           777_000,\n",
    "           1_580_000,\n",
    "           1_900_984,\n",
    "           1_394_223,\n",
    "           245_000]\n",
    "arestas = [(1, 2), (1, 3), (1, 4), (1, 5), (1, 6), (2, 4), (2, 5), (2, 6), (3, 5), (4, 5), (5, 6)]"
   ]
  },
  {
   "cell_type": "code",
   "execution_count": 94,
   "id": "ad419a75",
   "metadata": {},
   "outputs": [],
   "source": [
    "def quantidade_estrada_3(arestas, cidades):\n",
    "    qt_estradas = 0\n",
    "    for aresta in arestas:\n",
    "        cidade1, cidade2 = aresta[0], aresta[1]\n",
    "        if cidades[cidade1] > 1_000_000 and cidades[cidade2] > 1_000_000:\n",
    "            qt_estradas += 1\n",
    "    return qt_estradas"
   ]
  },
  {
   "cell_type": "code",
   "execution_count": 95,
   "id": "a93d64f3",
   "metadata": {},
   "outputs": [
    {
     "data": {
      "text/plain": [
       "2"
      ]
     },
     "execution_count": 95,
     "metadata": {},
     "output_type": "execute_result"
    }
   ],
   "source": [
    "quantidade_estrada_3(arestas, cidades)"
   ]
  }
 ],
 "metadata": {
  "kernelspec": {
   "display_name": "Python 3 (ipykernel)",
   "language": "python",
   "name": "python3"
  },
  "language_info": {
   "codemirror_mode": {
    "name": "ipython",
    "version": 3
   },
   "file_extension": ".py",
   "mimetype": "text/x-python",
   "name": "python",
   "nbconvert_exporter": "python",
   "pygments_lexer": "ipython3",
   "version": "3.9.7"
  }
 },
 "nbformat": 4,
 "nbformat_minor": 5
}
